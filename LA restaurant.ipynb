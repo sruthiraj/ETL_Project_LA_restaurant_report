{
 "cells": [
  {
   "cell_type": "markdown",
   "metadata": {},
   "source": [
    "# LA Restaurant Market and Health Data"
   ]
  },
  {
   "cell_type": "code",
   "execution_count": 713,
   "metadata": {},
   "outputs": [
    {
     "data": {
      "text/plain": [
       "'/Users/sruthi/data-science-bootcamp/GTATL201902DATA3/ETL Project'"
      ]
     },
     "execution_count": 713,
     "metadata": {},
     "output_type": "execute_result"
    }
   ],
   "source": [
    "# import dependencies\n",
    "\n",
    "import pandas as pd\n",
    "import os\n",
    "import numpy as np\n",
    "os.getcwd()\n",
    "\n",
    "from splinter import Browser\n",
    "from bs4 import BeautifulSoup\n",
    "from urllib.parse import urlencode\n",
    "\n",
    "import pymongo\n",
    "from pymongo import MongoClient\n",
    "client = MongoClient()\n"
   ]
  },
  {
   "cell_type": "code",
   "execution_count": 460,
   "metadata": {},
   "outputs": [],
   "source": [
    "# pulling datasets\n",
    "\n",
    "inspections_data = pd.read_csv('restaurant-and-market-health-inspections.csv')\n",
    "violations_data = pd.read_csv('restaurant-and-market-health-violations.csv')"
   ]
  },
  {
   "cell_type": "code",
   "execution_count": 745,
   "metadata": {},
   "outputs": [],
   "source": [
    "# function to embed violations data into inspections data\n",
    "\n",
    "def transform_inspection(inspection, violations_df, facilities_df):\n",
    "    VIOLATIONS_COLUMNS = ['row_id', 'violation_code', 'violation_description', 'violation_status', 'points']\n",
    "    serial_number = inspection['serial_number']\n",
    "    violations_dict = violations_df.loc[violations_df['serial_number'] == serial_number, VIOLATIONS_COLUMNS].to_dict(orient='records')\n",
    "    result = inspection.to_dict()\n",
    "    result['violations'] = violations_dict\n",
    "    result['violations_count'] = len(violations_dict)\n",
    "    rating = facilities_df.loc[(facilities_df['facility_name'] == inspections_data.iloc[0]['facility_name']) & (facilities_df['facility_address'] == inspections_data.iloc[0]['facility_address'])].loc[0]['rating']\n",
    "    if not np.isnan(rating):\n",
    "        result['rating'] = rating\n",
    "    return result\n",
    "  "
   ]
  },
  {
   "cell_type": "markdown",
   "metadata": {},
   "source": [
    "# Scrap Yelp For Ratings"
   ]
  },
  {
   "cell_type": "code",
   "execution_count": null,
   "metadata": {},
   "outputs": [],
   "source": [
    "!which chromedriver"
   ]
  },
  {
   "cell_type": "code",
   "execution_count": 703,
   "metadata": {},
   "outputs": [],
   "source": [
    "executable_path = {'executable_path': '/usr/local/bin/chromedriver'}\n",
    "browser = Browser('chrome', **executable_path, headless=False)\n",
    "\n",
    "def get_url(restaurant_name):\n",
    "    url_prefix = 'https://www.yelp.com/search?'\n",
    "    params = { 'find_desc': restaurant_name, 'find_loc': 'Los Angeles,CA' }\n",
    "    param_string = urlencode(params)\n",
    "    return url_prefix + param_string\n",
    "\n",
    "def is_matching_restaurant(name, address, scraped_name, scraped_address):\n",
    "    name = name.lower()\n",
    "    address = address.lower()\n",
    "    scraped_name = scraped_name.lower()\n",
    "    scraped_address = scraped_address.lower()\n",
    "    \n",
    "    is_name_match = name.startswith(scraped_name) or scraped_name.startswith(name)\n",
    "    is_address_match = address.startswith(scraped_address) or scraped_address.startswith(address)\n",
    "    return is_name_match and is_address_match\n",
    "    \n",
    "def scrape_rating(html, name, address):\n",
    "    soup = BeautifulSoup(html, 'html.parser')\n",
    "    restaurants_li = soup.find_all('li')\n",
    "    for restaurant_li in restaurants_li:\n",
    "        try:\n",
    "            scraped_name = restaurant_li.h3.a['name']\n",
    "            scraped_address = restaurant_li.address.span.text\n",
    "            if (is_matching_restaurant(name, address, scraped_name, scraped_address)):\n",
    "                return float(restaurant_li.find('div', role=\"img\")['aria-label'].replace(' star rating', ''))\n",
    "        except Exception as e:\n",
    "            {}\n",
    "            \n",
    "facilities_df = inspections_data[['facility_name', 'facility_address']].drop_duplicates()\n",
    "facilities_df['rating'] = pd.Series()\n",
    "\n",
    "for index, facility in facilities_df.iterrows():\n",
    "    if (index % 25 == 0):\n",
    "        print('processing record #' + str(index))\n",
    "        \n",
    "    name = facility['facility_name']\n",
    "    address = facility['facility_address']\n",
    "    # visit site\n",
    "    browser.visit(get_url(name))\n",
    "    # send data to scrape rating and assign it to rating column\n",
    "    rating = scrape_rating(browser.html, name, address)\n",
    "    facilities_df.loc[index,'rating'] = rating\n",
    "    \n",
    "facilities_df.to_csv('yelp_rating.csv', sep=',')\n",
    "\n"
   ]
  },
  {
   "cell_type": "markdown",
   "metadata": {},
   "source": [
    "# Load Into Mongo DB"
   ]
  },
  {
   "cell_type": "code",
   "execution_count": 704,
   "metadata": {},
   "outputs": [],
   "source": [
    "conn = 'mongodb://localhost:27017'\n",
    "client = pymongo.MongoClient(conn)"
   ]
  },
  {
   "cell_type": "code",
   "execution_count": 705,
   "metadata": {},
   "outputs": [],
   "source": [
    "db = client.restaurant_market_health_db\n",
    "collection = db.inspection_summary"
   ]
  },
  {
   "cell_type": "code",
   "execution_count": 747,
   "metadata": {},
   "outputs": [],
   "source": [
    "for i, inspection_series in inspections_data.iterrows():\n",
    "    collection.insert_one(transform_inspection(inspection_series, violations_data, facilities_df))"
   ]
  },
  {
   "cell_type": "code",
   "execution_count": 695,
   "metadata": {},
   "outputs": [],
   "source": [
    "executable_path = {'executable_path': '/usr/local/bin/chromedriver'}\n",
    "browser = Browser('chrome', **executable_path, headless=False)"
   ]
  },
  {
   "cell_type": "code",
   "execution_count": 749,
   "metadata": {},
   "outputs": [],
   "source": [
    "facilities_df.to_csv('yelp_rating.csv', sep=',')"
   ]
  },
  {
   "cell_type": "code",
   "execution_count": null,
   "metadata": {},
   "outputs": [],
   "source": []
  }
 ],
 "metadata": {
  "kernelspec": {
   "display_name": "Python 3",
   "language": "python",
   "name": "python3"
  },
  "language_info": {
   "codemirror_mode": {
    "name": "ipython",
    "version": 3
   },
   "file_extension": ".py",
   "mimetype": "text/x-python",
   "name": "python",
   "nbconvert_exporter": "python",
   "pygments_lexer": "ipython3",
   "version": "3.6.4"
  }
 },
 "nbformat": 4,
 "nbformat_minor": 2
}
